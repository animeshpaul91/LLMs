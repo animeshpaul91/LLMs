{
 "cells": [
  {
   "cell_type": "markdown",
   "id": "e3993515-9710-4ac4-89e9-b35ebb81e920",
   "metadata": {
    "id": "rhqRhkElpJ0z"
   },
   "source": [
    "# Transforming\n",
    "\n",
    "In this notebook, we will explore how to use Large Language Models for text transformation tasks such as language translation, spelling and grammar checking, tone adjustment, and format conversion.\n",
    "\n",
    "## Setup"
   ]
  },
  {
   "cell_type": "code",
   "execution_count": 1,
   "id": "41df0348",
   "metadata": {
    "height": 132,
    "tags": []
   },
   "outputs": [],
   "source": [
    "import openai\n",
    "import os\n",
    "\n",
    "from dotenv import load_dotenv, find_dotenv\n",
    "_ = load_dotenv(find_dotenv()) # read local .env file\n",
    "\n",
    "openai.api_key  = os.getenv('OPENAI_API_KEY')"
   ]
  },
  {
   "cell_type": "code",
   "execution_count": 2,
   "id": "6a85ee0f",
   "metadata": {
    "height": 149,
    "tags": []
   },
   "outputs": [],
   "source": [
    "def get_completion(prompt, model=\"gpt-4o\", temperature=0): \n",
    "    messages = [{\"role\": \"user\", \"content\": prompt}]\n",
    "    response = openai.ChatCompletion.create(\n",
    "        model=model,\n",
    "        messages=messages,\n",
    "        temperature=temperature, \n",
    "    )\n",
    "    return response.choices[0].message[\"content\"]"
   ]
  },
  {
   "cell_type": "markdown",
   "id": "1d8f0bd8-628e-4c36-bcd0-2110162f25fc",
   "metadata": {
    "id": "zdxC4c6pwqA5"
   },
   "source": [
    "## Translation\n",
    "\n",
    "ChatGPT is trained with sources in many languages. This gives the model the ability to do translation. Here are some examples of how to use this capability."
   ]
  },
  {
   "cell_type": "code",
   "execution_count": 3,
   "id": "9c4df6ff",
   "metadata": {
    "height": 132,
    "tags": []
   },
   "outputs": [
    {
     "name": "stdout",
     "output_type": "stream",
     "text": [
      "Hola, me gustaría pedir una licuadora.\n"
     ]
    }
   ],
   "source": [
    "prompt = f\"\"\"\n",
    "Translate the following English text \\\n",
    "delimited by triple backticksto Spanish: \\ \n",
    "```Hi, I would like to order a blender```\n",
    "\"\"\"\n",
    "response = get_completion(prompt)\n",
    "print(response)"
   ]
  },
  {
   "cell_type": "code",
   "execution_count": 4,
   "id": "7300ed9b",
   "metadata": {
    "height": 115,
    "tags": []
   },
   "outputs": [
    {
     "name": "stdout",
     "output_type": "stream",
     "text": [
      "The sentence \"Combien coûte le lampadaire?\" is in French. It translates to \"How much does the floor lamp cost?\" in English.\n"
     ]
    }
   ],
   "source": [
    "prompt = f\"\"\"\n",
    "Tell me which language this is: \n",
    "```Combien coûte le lampadaire?```\n",
    "\"\"\"\n",
    "response = get_completion(prompt)\n",
    "print(response)"
   ]
  },
  {
   "cell_type": "code",
   "execution_count": 5,
   "id": "791e789b",
   "metadata": {
    "height": 132,
    "tags": []
   },
   "outputs": [
    {
     "name": "stdout",
     "output_type": "stream",
     "text": [
      "**French:** Je veux commander un ballon de basket.\n",
      "\n",
      "**Spanish:** Quiero pedir un balón de baloncesto.\n",
      "\n",
      "**English Pirate:** Arrr, I be wantin' to order a basketball, matey!\n"
     ]
    }
   ],
   "source": [
    "prompt = f\"\"\"\n",
    "Translate the following  text to French and Spanish\n",
    "and English pirate: \\\n",
    "```I want to order a basketball```\n",
    "\"\"\"\n",
    "response = get_completion(prompt)\n",
    "print(response)"
   ]
  },
  {
   "cell_type": "code",
   "execution_count": 6,
   "id": "fcf7eb63",
   "metadata": {
    "height": 132,
    "tags": []
   },
   "outputs": [
    {
     "name": "stdout",
     "output_type": "stream",
     "text": [
      "Informal: ¿Te gustaría pedir una almohada?\n",
      "\n",
      "Formal: ¿Le gustaría pedir una almohada?\n"
     ]
    }
   ],
   "source": [
    "prompt = f\"\"\"\n",
    "Translate the following text to Spanish in both the \\\n",
    "formal and informal forms: \n",
    "'Would you like to order a pillow?'\n",
    "\"\"\"\n",
    "response = get_completion(prompt)\n",
    "print(response)"
   ]
  },
  {
   "cell_type": "markdown",
   "id": "8edb56d2-a32a-470f-9f40-4fc5b1ea0849",
   "metadata": {
    "id": "-hN2bczQrRC1"
   },
   "source": [
    "### Universal Translator\n",
    "Imagine you are in charge of IT at a large multinational e-commerce company. Users are messaging you with IT issues in all their native languages. Your staff is from all over the world and speaks only their native languages. You need a universal translator!"
   ]
  },
  {
   "cell_type": "code",
   "execution_count": 8,
   "id": "68a40bf0",
   "metadata": {
    "height": 147,
    "tags": []
   },
   "outputs": [],
   "source": [
    "user_messages = [\n",
    "  \"La performance du système est plus lente que d'habitude.\",  # System performance is slower than normal         \n",
    "  \"Mi monitor tiene píxeles que no se iluminan.\",              # My monitor has pixels that are not lighting\n",
    "  \"Il mio mouse non funziona\",                                 # My mouse is not working\n",
    "  \"Mój klawisz Ctrl jest zepsuty\",                             # My keyboard has a broken control key\n",
    "  \"我的屏幕在闪烁\"                                               # My screen is flashing\n",
    "] "
   ]
  },
  {
   "cell_type": "code",
   "execution_count": 14,
   "id": "552d0db9",
   "metadata": {
    "height": 217,
    "tags": []
   },
   "outputs": [
    {
     "name": "stdout",
     "output_type": "stream",
     "text": [
      "Original message [French]: La performance du système est plus lente que d'habitude.\n",
      "**English:** The system's performance is slower than usual.\n",
      "\n",
      "**Bengali:** সিস্টেমের কার্যক্ষমতা স্বাভাবিকের তুলনায় ধীর। \n",
      "\n",
      "Original message [Spanish]: Mi monitor tiene píxeles que no se iluminan.\n",
      "**English:** My monitor has pixels that do not light up.\n",
      "\n",
      "**Bengali:** আমার মনিটরে এমন পিক্সেল আছে যা জ্বলে না। \n",
      "\n",
      "Original message [Italian]: Il mio mouse non funziona\n",
      "Sure! Here is the translation of the text:\n",
      "\n",
      "**English:** \"My mouse is not working.\"\n",
      "\n",
      "**Bengali:** \"আমার মাউস কাজ করছে না।\" \n",
      "\n",
      "Original message [Polish]: Mój klawisz Ctrl jest zepsuty\n",
      "**English:** My Ctrl key is broken.\n",
      "\n",
      "**Bengali:** আমার Ctrl কীটি নষ্ট হয়ে গেছে। \n",
      "\n",
      "Original message [Chinese]: 我的屏幕在闪烁\n",
      "**English:** \"My screen is flickering.\"\n",
      "\n",
      "**Bengali:** \"আমার স্ক্রিন ঝলকাচ্ছে।\" \n",
      "\n"
     ]
    }
   ],
   "source": [
    "for issue in user_messages:\n",
    "    prompt = f\"Just tell me what language this is. \\\n",
    "    Respond with only one word: ```{issue}```\"\n",
    "    lang = get_completion(prompt)\n",
    "    print(f\"Original message [{lang}]: {issue}\")\n",
    "\n",
    "    prompt = f\"\"\"\n",
    "    Translate the following  text to English \\\n",
    "    and Bengali: ```{issue}```\n",
    "    \"\"\"\n",
    "    response = get_completion(prompt)\n",
    "    print(response, \"\\n\")"
   ]
  },
  {
   "cell_type": "markdown",
   "id": "18e660eb-324f-474c-acf3-7e3bf5b7c70e",
   "metadata": {},
   "source": [
    "## Try it yourself!\n",
    "Try some translations on your own!"
   ]
  },
  {
   "cell_type": "code",
   "execution_count": 25,
   "id": "fa57158f-d77d-42d1-94fe-17fa59c012f8",
   "metadata": {
    "height": 419
   },
   "outputs": [
    {
     "name": "stdout",
     "output_type": "stream",
     "text": [
      "```json\n",
      "[\n",
      "    {\n",
      "        \"language\": \"French.\",\n",
      "        \"input\": \"La performance du système est plus lente que d'habitude.\",\n",
      "        \"english\": \"The system's performance is slower than usual.\",\n",
      "        \"bengali\": \"সিস্টেমের কর্মক্ষমতা স্বাভাবিকের চেয়ে ধীর।\"\n",
      "    },\n",
      "    {\n",
      "        \"language\": \"Spanish.\",\n",
      "        \"input\": \"Mi monitor tiene píxeles que no se iluminan.\",\n",
      "        \"english\": \"My monitor has pixels that do not light up.\",\n",
      "        \"bengali\": \"আমার মনিটরে এমন পিক্সেল রয়েছে যা জ্বলে না।\"\n",
      "    },\n",
      "    {\n",
      "        \"language\": \"Italian.\",\n",
      "        \"input\": \"Il mio mouse non funziona.\",\n",
      "        \"english\": \"My mouse does not work.\",\n",
      "        \"bengali\": \"আমার মাউস কাজ করছে না।\"\n",
      "    },\n",
      "    {\n",
      "        \"language\": \"Polish.\",\n",
      "        \"input\": \"Mój klawisz Ctrl jest zepsuty.\",\n",
      "        \"english\": \"My Ctrl key is broken.\",\n",
      "        \"bengali\": \"আমার Ctrl কীটি ভাঙা।\"\n",
      "    },\n",
      "    {\n",
      "        \"language\": \"Chinese.\",\n",
      "        \"input\": \"我的屏幕在闪烁\",\n",
      "        \"english\": \"My screen is flickering.\",\n",
      "        \"bengali\": \"আমার স্ক্রিন ঝলকাচ্ছে।\"\n",
      "    }\n",
      "]\n",
      "```\n"
     ]
    }
   ],
   "source": [
    "input_prompt = \";\".join(user_messages)\n",
    "\n",
    "prompt = f\"\"\"\n",
    "You are given an input text. Split this text with semicolon \\\n",
    "character first. For each split, You have to \\\n",
    "perform the following tasks and generate the output \n",
    "in a JSON format with the mentioned keys. Make every \\\n",
    "statement in the output JSON end with a full-stop. \\\n",
    "\n",
    "Here are the tasks:\n",
    "\n",
    "* Identify the language and output it in one word under \\\n",
    "JSON key 'language'\n",
    "* Put the original input message in JSON key 'input'\n",
    "* Translate into English and output it in JSON key 'english'\n",
    "* Translate into Bengali and output it in JSON key 'bengali'\n",
    "\n",
    "Here is your input text delimited with triple backticks.\n",
    "```{input_prompt}```\n",
    "\"\"\"\n",
    "\n",
    "response = get_completion(prompt)\n",
    "print(response)"
   ]
  },
  {
   "cell_type": "markdown",
   "id": "1d9e54ca-f93a-43c8-a295-bff7a89f77f5",
   "metadata": {
    "id": "JH3-0vdjsILh"
   },
   "source": [
    "## Tone Transformation\n",
    "Writing can vary based on the intended audience. ChatGPT can produce different tones.\n"
   ]
  },
  {
   "cell_type": "code",
   "execution_count": 24,
   "id": "2deac328",
   "metadata": {
    "height": 147,
    "tags": []
   },
   "outputs": [
    {
     "name": "stdout",
     "output_type": "stream",
     "text": [
      "Subject: Product Specification for Standing Lamp\n",
      "\n",
      "Dear Mr. Paul,\n",
      "\n",
      "I hope this message finds you well. I am writing to share with you the specifications of a standing lamp that may be of interest to you. Please find the details attached for your review.\n",
      "\n",
      "Thank you for your attention.\n",
      "\n",
      "Best regards,\n",
      "\n",
      "Joe\n"
     ]
    }
   ],
   "source": [
    "prompt = f\"\"\"\n",
    "Translate the following from slang to a business letter to \\\n",
    "a recipient named 'Animesh Paul': \n",
    "'Dude, This is Joe, check out this spec on this standing lamp.'\n",
    "\"\"\"\n",
    "response = get_completion(prompt)\n",
    "print(response)"
   ]
  },
  {
   "cell_type": "markdown",
   "id": "a2c7eb73-6b82-442d-b4f8-251c308e89d5",
   "metadata": {
    "id": "p3e9sZh5tWIa"
   },
   "source": [
    "## Format Conversion\n",
    "ChatGPT can translate between formats. The prompt should describe the input and output formats."
   ]
  },
  {
   "cell_type": "code",
   "execution_count": 26,
   "id": "5a37f0a0",
   "metadata": {
    "height": 232,
    "tags": []
   },
   "outputs": [
    {
     "name": "stdout",
     "output_type": "stream",
     "text": [
      "To convert the given JSON-like Python dictionary into an HTML table with column headers and a title, you can use the following HTML code:\n",
      "\n",
      "```html\n",
      "<!DOCTYPE html>\n",
      "<html lang=\"en\">\n",
      "<head>\n",
      "    <meta charset=\"UTF-8\">\n",
      "    <meta name=\"viewport\" content=\"width=device-width, initial-scale=1.0\">\n",
      "    <title>Restaurant Employees</title>\n",
      "    <style>\n",
      "        table {\n",
      "            width: 50%;\n",
      "            border-collapse: collapse;\n",
      "            margin: 20px 0;\n",
      "        }\n",
      "        th, td {\n",
      "            border: 1px solid #ddd;\n",
      "            padding: 8px;\n",
      "            text-align: left;\n",
      "        }\n",
      "        th {\n",
      "            background-color: #f2f2f2;\n",
      "        }\n",
      "    </style>\n",
      "</head>\n",
      "<body>\n",
      "\n",
      "    <h1>Restaurant Employees</h1>\n",
      "    <table>\n",
      "        <thead>\n",
      "            <tr>\n",
      "                <th>Name</th>\n",
      "                <th>Email</th>\n",
      "            </tr>\n",
      "        </thead>\n",
      "        <tbody>\n",
      "            <tr>\n",
      "                <td>Shyam</td>\n",
      "                <td>shyamjaiswal@gmail.com</td>\n",
      "            </tr>\n",
      "            <tr>\n",
      "                <td>Bob</td>\n",
      "                <td>bob32@gmail.com</td>\n",
      "            </tr>\n",
      "            <tr>\n",
      "                <td>Jai</td>\n",
      "                <td>jai87@gmail.com</td>\n",
      "            </tr>\n",
      "        </tbody>\n",
      "    </table>\n",
      "\n",
      "</body>\n",
      "</html>\n",
      "```\n",
      "\n",
      "This HTML code creates a table with a title \"Restaurant Employees\" and two columns: \"Name\" and \"Email\". Each row in the table corresponds to an employee from the provided dictionary.\n"
     ]
    }
   ],
   "source": [
    "data_json = { \"resturant employees\" :[ \n",
    "    {\"name\":\"Shyam\", \"email\":\"shyamjaiswal@gmail.com\"},\n",
    "    {\"name\":\"Bob\", \"email\":\"bob32@gmail.com\"},\n",
    "    {\"name\":\"Jai\", \"email\":\"jai87@gmail.com\"}\n",
    "]}\n",
    "\n",
    "prompt = f\"\"\"\n",
    "Translate the following python dictionary from JSON to an HTML \\\n",
    "table with column headers and title: {data_json}\n",
    "\"\"\"\n",
    "response = get_completion(prompt)\n",
    "print(response)"
   ]
  },
  {
   "cell_type": "code",
   "execution_count": 27,
   "id": "481a46b7",
   "metadata": {
    "height": 62,
    "tags": []
   },
   "outputs": [
    {
     "data": {
      "text/html": [
       "To convert the given JSON-like Python dictionary into an HTML table with column headers and a title, you can use the following HTML code:\n",
       "\n",
       "```html\n",
       "<!DOCTYPE html>\n",
       "<html lang=\"en\">\n",
       "<head>\n",
       "    <meta charset=\"UTF-8\">\n",
       "    <meta name=\"viewport\" content=\"width=device-width, initial-scale=1.0\">\n",
       "    <title>Restaurant Employees</title>\n",
       "    <style>\n",
       "        table {\n",
       "            width: 50%;\n",
       "            border-collapse: collapse;\n",
       "            margin: 20px 0;\n",
       "        }\n",
       "        th, td {\n",
       "            border: 1px solid #ddd;\n",
       "            padding: 8px;\n",
       "            text-align: left;\n",
       "        }\n",
       "        th {\n",
       "            background-color: #f2f2f2;\n",
       "        }\n",
       "    </style>\n",
       "</head>\n",
       "<body>\n",
       "\n",
       "    <h1>Restaurant Employees</h1>\n",
       "    <table>\n",
       "        <thead>\n",
       "            <tr>\n",
       "                <th>Name</th>\n",
       "                <th>Email</th>\n",
       "            </tr>\n",
       "        </thead>\n",
       "        <tbody>\n",
       "            <tr>\n",
       "                <td>Shyam</td>\n",
       "                <td>shyamjaiswal@gmail.com</td>\n",
       "            </tr>\n",
       "            <tr>\n",
       "                <td>Bob</td>\n",
       "                <td>bob32@gmail.com</td>\n",
       "            </tr>\n",
       "            <tr>\n",
       "                <td>Jai</td>\n",
       "                <td>jai87@gmail.com</td>\n",
       "            </tr>\n",
       "        </tbody>\n",
       "    </table>\n",
       "\n",
       "</body>\n",
       "</html>\n",
       "```\n",
       "\n",
       "This HTML code creates a table with a title \"Restaurant Employees\" and two columns: \"Name\" and \"Email\". Each row in the table corresponds to an employee from the provided dictionary."
      ],
      "text/plain": [
       "<IPython.core.display.HTML object>"
      ]
     },
     "metadata": {},
     "output_type": "display_data"
    }
   ],
   "source": [
    "from IPython.display import display, Markdown, Latex, HTML, JSON\n",
    "display(HTML(response))"
   ]
  },
  {
   "cell_type": "code",
   "execution_count": 28,
   "id": "54447de7",
   "metadata": {
    "height": 232
   },
   "outputs": [
    {
     "name": "stdout",
     "output_type": "stream",
     "text": [
      "To translate the given JSON-like Python dictionary to YAML format, you can represent it as follows:\n",
      "\n",
      "```yaml\n",
      "resturant employees:\n",
      "  - name: Shyam\n",
      "    email: shyamjaiswal@gmail.com\n",
      "  - name: Bob\n",
      "    email: bob32@gmail.com\n",
      "  - name: Jai\n",
      "    email: jai87@gmail.com\n",
      "```\n",
      "\n",
      "This YAML format maintains the structure of the original dictionary, with each employee represented as a list item under the key `resturant employees`.\n"
     ]
    }
   ],
   "source": [
    "data_json = { \"resturant employees\" :[ \n",
    "    {\"name\":\"Shyam\", \"email\":\"shyamjaiswal@gmail.com\"},\n",
    "    {\"name\":\"Bob\", \"email\":\"bob32@gmail.com\"},\n",
    "    {\"name\":\"Jai\", \"email\":\"jai87@gmail.com\"}\n",
    "]}\n",
    "\n",
    "prompt = f\"\"\"\n",
    "Translate the following python dictionary from JSON to YAML \\\n",
    "format: {data_json}\n",
    "\"\"\"\n",
    "response = get_completion(prompt)\n",
    "print(response)"
   ]
  },
  {
   "cell_type": "markdown",
   "id": "2df1824c-534b-45cb-b0c1-3000bba5adbe",
   "metadata": {
    "id": "qLTz16qEzyT_"
   },
   "source": [
    "## Spellcheck/Grammar check.\n",
    "\n",
    "Here are some examples of common grammar and spelling problems and the LLM's response. \n",
    "\n",
    "To signal to the LLM that you want it to proofread your text, you instruct the model to 'proofread' or 'proofread and correct'."
   ]
  },
  {
   "cell_type": "code",
   "execution_count": 31,
   "id": "52d77283",
   "metadata": {
    "height": 351,
    "tags": []
   },
   "outputs": [
    {
     "name": "stdout",
     "output_type": "stream",
     "text": [
      "0 The girl with the black and white puppies has a ball.\n",
      "1 No errors found\n",
      "2 Its going to be a long day. Does the car need its oil changed?\n",
      "\n",
      "It's going to be a long day. Does the car need its oil changed?\n",
      "3 There goes my freedom. They're going to bring their suitcases.\n",
      "4 You're going to need your notebook.\n",
      "5 That medicine affects my ability to sleep. Have you heard of the butterfly effect?\n",
      "6 This phrase is to check ChatGPT for spelling ability\n"
     ]
    }
   ],
   "source": [
    "text = [ \n",
    "  \"The girl with the black and white puppies have a ball.\",  # The girl has a ball.\n",
    "  \"Yolanda has her notebook.\", # ok\n",
    "  \"Its going to be a long day. Does the car need it’s oil changed?\",  # Homonyms\n",
    "  \"Their goes my freedom. There going to bring they’re suitcases.\",  # Homonyms\n",
    "  \"Your going to need you’re notebook.\",  # Homonyms\n",
    "  \"That medicine effects my ability to sleep. Have you heard of the butterfly affect?\", # Homonyms\n",
    "  \"This phrase is to cherck chatGPT for speling abilitty\"  # spelling\n",
    "]\n",
    "\n",
    "for i in range(0, len(text)):\n",
    "    t = text[i]\n",
    "    prompt = f\"\"\"Proofread and correct the following text\n",
    "    and rewrite the corrected version. If you don't find\n",
    "    any errors, just say \"No errors found\". Don't use \n",
    "    any punctuation around the text:\n",
    "    ```{t}```\"\"\"\n",
    "    response = get_completion(prompt)\n",
    "    print(i, response)"
   ]
  },
  {
   "cell_type": "code",
   "execution_count": 32,
   "id": "7543fe7d",
   "metadata": {
    "height": 249,
    "tags": []
   },
   "outputs": [
    {
     "name": "stdout",
     "output_type": "stream",
     "text": [
      "Got this for my daughter for her birthday because she keeps taking mine from my room. Yes, adults like pandas too. She takes it everywhere with her, and it's super soft and cute. One of the ears is a bit lower than the other, and I don't think it was designed to be asymmetrical. It's a bit small for what I paid for it, though. I think there might be other options that are bigger for the same price. It arrived a day earlier than expected, so I got to play with it myself before I gave it to my daughter.\n"
     ]
    }
   ],
   "source": [
    "text = f\"\"\"\n",
    "Got this for my daughter for her birthday cuz she keeps taking \\\n",
    "mine from my room.  Yes, adults also like pandas too.  She takes \\\n",
    "it everywhere with her, and it's super soft and cute.  One of the \\\n",
    "ears is a bit lower than the other, and I don't think that was \\\n",
    "designed to be asymmetrical. It's a bit small for what I paid for it \\\n",
    "though. I think there might be other options that are bigger for \\\n",
    "the same price.  It arrived a day earlier than expected, so I got \\\n",
    "to play with it myself before I gave it to my daughter.\n",
    "\"\"\"\n",
    "prompt = f\"proofread and correct this review: ```{text}```\"\n",
    "response = get_completion(prompt)\n",
    "print(response)"
   ]
  },
  {
   "cell_type": "code",
   "execution_count": 33,
   "id": "11ac80a0",
   "metadata": {
    "height": 81,
    "tags": []
   },
   "outputs": [
    {
     "data": {
      "text/markdown": [
       "Got this for my daughter for her birthday <span style=\"color:red;font-weight:700;text-decoration:line-through;\">cuz </span><span style=\"color:red;font-weight:700;\">because </span>she keeps taking mine from my <span style=\"color:red;font-weight:700;text-decoration:line-through;\">room.  </span><span style=\"color:red;font-weight:700;\">room. </span>Yes, adults <span style=\"color:red;font-weight:700;text-decoration:line-through;\">also </span>like pandas <span style=\"color:red;font-weight:700;text-decoration:line-through;\">too.  </span><span style=\"color:red;font-weight:700;\">too. </span>She takes it everywhere with her, and it's super soft and <span style=\"color:red;font-weight:700;text-decoration:line-through;\">cute.  </span><span style=\"color:red;font-weight:700;\">cute. </span>One of the ears is a bit lower than the other, and I don't think <span style=\"color:red;font-weight:700;text-decoration:line-through;\">that </span><span style=\"color:red;font-weight:700;\">it </span>was designed to be asymmetrical. It's a bit small for what I paid for <span style=\"color:red;font-weight:700;text-decoration:line-through;\">it </span><span style=\"color:red;font-weight:700;\">it, </span>though. I think there might be other options that are bigger for the same <span style=\"color:red;font-weight:700;text-decoration:line-through;\">price.  </span><span style=\"color:red;font-weight:700;\">price. </span>It arrived a day earlier than expected, so I got to play with it myself before I gave it to my <span style=\"color:red;font-weight:700;text-decoration:line-through;\">daughter.\n",
       "</span><span style=\"color:red;font-weight:700;\">daughter.</span>"
      ],
      "text/plain": [
       "<IPython.core.display.Markdown object>"
      ]
     },
     "metadata": {},
     "output_type": "display_data"
    }
   ],
   "source": [
    "from redlines import Redlines\n",
    "\n",
    "diff = Redlines(text,response)\n",
    "display(Markdown(diff.output_markdown))"
   ]
  },
  {
   "cell_type": "code",
   "execution_count": 34,
   "id": "2b4e73fd",
   "metadata": {
    "height": 164,
    "tags": []
   },
   "outputs": [
    {
     "data": {
      "text/markdown": [
       "```markdown\n",
       "I purchased this panda plush toy for my daughter's birthday, as she frequently borrowed mine from my room. It is important to note that pandas are beloved by adults as well. My daughter takes this plush toy everywhere, and its softness and cuteness are truly remarkable. However, I observed that one of the ears is slightly lower than the other, which does not appear to be an intentional design choice. Additionally, the size of the plush toy is somewhat smaller than anticipated, considering the price. There may be larger alternatives available at a similar cost. On a positive note, the item arrived a day earlier than expected, allowing me the opportunity to enjoy it briefly before gifting it to my daughter.\n",
       "\n",
       "In summary, while the panda plush toy is undeniably charming and adored by both children and adults, potential buyers should be aware of its minor asymmetry and relatively small size. Despite these considerations, the early delivery was a pleasant surprise, enhancing the overall purchasing experience.\n",
       "```\n"
      ],
      "text/plain": [
       "<IPython.core.display.Markdown object>"
      ]
     },
     "metadata": {},
     "output_type": "display_data"
    }
   ],
   "source": [
    "prompt = f\"\"\"\n",
    "proofread and correct this review. Make it more compelling. \n",
    "Ensure it follows APA style guide and targets an advanced reader. \n",
    "Output in markdown format.\n",
    "Text: ```{text}```\n",
    "\"\"\"\n",
    "response = get_completion(prompt)\n",
    "display(Markdown(response))"
   ]
  },
  {
   "cell_type": "markdown",
   "id": "63fb76bc-a742-4b35-9dc2-f7fbc12d38fb",
   "metadata": {},
   "source": [
    "## Try it yourself!\n",
    "Try changing the instructions to form your own review."
   ]
  },
  {
   "cell_type": "code",
   "execution_count": 36,
   "id": "a2b2ca58",
   "metadata": {
    "height": 81
   },
   "outputs": [
    {
     "data": {
      "text/markdown": [
       "APA style is a set of guidelines for writing and formatting research papers and reports, developed by the American Psychological Association. It is widely used in the social sciences, education, and other fields. The main components of APA style include:\n",
       "\n",
       "1. **Formatting**: This includes specific guidelines for margins, font size and type (typically Times New Roman, 12-point), line spacing (double-spaced), and page headers.\n",
       "\n",
       "2. **Title Page**: An APA-style paper usually includes a title page with the title of the paper, the author's name, and the institutional affiliation.\n",
       "\n",
       "3. **Abstract**: A brief summary of the research paper, usually no more than 250 words, that provides an overview of the main points.\n",
       "\n",
       "4. **Headings**: APA style uses a specific system of headings and subheadings to organize content, which helps in structuring the paper clearly.\n",
       "\n",
       "5. **In-text Citations**: When referencing other works, APA style uses the author-date citation method, where the author's last name and the year of publication are included in the text.\n",
       "\n",
       "6. **Reference List**: At the end of the document, a reference list provides full details of all sources cited in the paper. This includes the author's name, publication year, title of the work, and publication details.\n",
       "\n",
       "7. **Tables and Figures**: APA style provides specific guidelines for the presentation of tables and figures, including labeling and captioning.\n",
       "\n",
       "8. **Bias-Free Language**: APA emphasizes the use of inclusive and bias-free language, encouraging writers to avoid language that might be considered discriminatory or biased.\n",
       "\n",
       "These guidelines are detailed in the \"Publication Manual of the American Psychological Association,\" which is regularly updated to reflect changes in writing and publishing standards. The most recent edition, as of my knowledge cutoff in October 2023, is the 7th edition."
      ],
      "text/plain": [
       "<IPython.core.display.Markdown object>"
      ]
     },
     "metadata": {},
     "output_type": "display_data"
    }
   ],
   "source": [
    "prompt = \"What is APA style?\"\n",
    "\n",
    "response = get_completion(prompt)\n",
    "display(Markdown(response))"
   ]
  },
  {
   "cell_type": "markdown",
   "id": "3dbf5020-7d7f-4ba5-840b-20e883cd7c99",
   "metadata": {
    "id": "unsf1JnRr2IC"
   },
   "source": [
    "Thanks to the following sites:\n",
    "\n",
    "https://writingprompts.com/bad-grammar-examples/\n"
   ]
  }
 ],
 "metadata": {
  "kernelspec": {
   "display_name": "Python 3 (ipykernel)",
   "language": "python",
   "name": "python3"
  },
  "language_info": {
   "codemirror_mode": {
    "name": "ipython",
    "version": 3
   },
   "file_extension": ".py",
   "mimetype": "text/x-python",
   "name": "python",
   "nbconvert_exporter": "python",
   "pygments_lexer": "ipython3",
   "version": "3.9.19"
  }
 },
 "nbformat": 4,
 "nbformat_minor": 5
}
